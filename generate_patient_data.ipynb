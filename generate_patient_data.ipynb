{
 "cells": [
  {
   "cell_type": "code",
   "execution_count": 7,
   "id": "beb02980-bd8c-4d89-a04c-b65ed470f80a",
   "metadata": {},
   "outputs": [],
   "source": [
    "import pandas as pd\n",
    "import numpy as np\n",
    "\n",
    "# Set total number of patients\n",
    "N = 400  \n",
    "N_treated = N // 2  # 50% treated\n",
    "N_control = N // 2  # 50% control\n",
    "\n",
    "# Ensure exactly half treated (1) and half control (0)\n",
    "treated_labels = np.array([0] * N_control + [1] * N_treated)\n",
    "np.random.shuffle(treated_labels)  # Shuffle for random assignment\n",
    "\n",
    "# Generate baseline symptom data\n",
    "base_pain = np.random.normal(loc=5, scale=2, size=N).clip(0, 9).round().astype(int)\n",
    "base_urgency = np.random.normal(loc=5, scale=1.5, size=N).clip(0, 9).round().astype(int)\n",
    "base_frequency = np.random.normal(loc=3, scale=1, size=N).clip(0, 9).round().astype(int)\n",
    "\n",
    "# Create a DataFrame for all patients\n",
    "data = pd.DataFrame({\n",
    "    \"id\": np.arange(1, N + 1),\n",
    "    \"treated\": treated_labels,\n",
    "    \"pain\": base_pain,\n",
    "    \"urgency\": base_urgency,\n",
    "    \"frequency\": base_frequency,\n",
    "})\n",
    "\n",
    "# Assign treatment time (only for treated patients, others get NaN)\n",
    "data[\"t\"] = np.where(data[\"treated\"] == 1, \n",
    "                     np.round(np.random.uniform(0, 30, size=N), 1), \n",
    "                     np.nan)\n",
    "\n",
    "# Generate treatment values at time `t`\n",
    "data[\"pain_at_t\"] = (base_pain + np.where(treated_labels == 1, np.random.normal(1, 0.5, N), np.random.normal(0, 0.3, N))).clip(0, 9).round().astype(int)\n",
    "data[\"urgency_at_t\"] = (base_urgency + np.where(treated_labels == 1, np.random.normal(1, 0.5, N), np.random.normal(0, 0.3, N))).clip(0, 9).round().astype(int)\n",
    "data[\"frequency_at_t\"] = (base_frequency + np.where(treated_labels == 1, np.random.normal(1, 0.5, N), np.random.normal(0, 0.3, N))).clip(0, 9).round().astype(int)\n",
    "\n",
    "# Simulate 3-month and 6-month outcomes\n",
    "reductionAt3mo = 1\n",
    "reductionAt6mo = 0.5\n",
    "\n",
    "data[\"pain_3mo\"] = (data[\"pain_at_t\"] - np.where(data[\"treated\"] == 1, reductionAt3mo, 0) + np.random.normal(0, 1, N)).clip(0, 9).round().astype(int)\n",
    "data[\"pain_6mo\"] = (data[\"pain_at_t\"] - np.where(data[\"treated\"] == 1, reductionAt6mo, 0) + np.random.normal(0, 1, N)).clip(0, 9).round().astype(int)\n",
    "\n",
    "data[\"urgency_3mo\"] = (data[\"urgency_at_t\"] - np.where(data[\"treated\"] == 1, reductionAt3mo, 0) + np.random.normal(0, 1, N)).clip(0, 9).round().astype(int)\n",
    "data[\"urgency_6mo\"] = (data[\"urgency_at_t\"] - np.where(data[\"treated\"] == 1, reductionAt6mo, 0) + np.random.normal(0, 1, N)).clip(0, 9).round().astype(int)\n",
    "\n",
    "data[\"frequency_3mo\"] = (data[\"frequency_at_t\"] - np.where(data[\"treated\"] == 1, reductionAt3mo, 0) + np.random.normal(0, 1, N)).clip(0, 9).round().astype(int)\n",
    "data[\"frequency_6mo\"] = (data[\"frequency_at_t\"] - np.where(data[\"treated\"] == 1, reductionAt6mo, 0) + np.random.normal(0, 1, N)).clip(0, 9).round().astype(int)\n",
    "\n",
    "data.to_csv(\"data/patient_data.csv\", index=False)\n"
   ]
  },
  {
   "cell_type": "code",
   "execution_count": null,
   "id": "7bb12492-ac2e-4f6f-a217-af8bd5088c17",
   "metadata": {},
   "outputs": [],
   "source": []
  }
 ],
 "metadata": {
  "kernelspec": {
   "display_name": "Python 3 (ipykernel)",
   "language": "python",
   "name": "python3"
  },
  "language_info": {
   "codemirror_mode": {
    "name": "ipython",
    "version": 3
   },
   "file_extension": ".py",
   "mimetype": "text/x-python",
   "name": "python",
   "nbconvert_exporter": "python",
   "pygments_lexer": "ipython3",
   "version": "3.13.1"
  }
 },
 "nbformat": 4,
 "nbformat_minor": 5
}
